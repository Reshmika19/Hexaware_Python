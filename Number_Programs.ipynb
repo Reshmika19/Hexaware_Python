{
  "nbformat": 4,
  "nbformat_minor": 0,
  "metadata": {
    "colab": {
      "provenance": []
    },
    "kernelspec": {
      "name": "python3",
      "display_name": "Python 3"
    },
    "language_info": {
      "name": "python"
    }
  },
  "cells": [
    {
      "cell_type": "code",
      "execution_count": 1,
      "metadata": {
        "colab": {
          "base_uri": "https://localhost:8080/"
        },
        "id": "QbjxvYP8PYPl",
        "outputId": "0f968975-780b-4725-cefe-24b8108e2204"
      },
      "outputs": [
        {
          "output_type": "stream",
          "name": "stdout",
          "text": [
            "Enter a number: 2025\n",
            "2025 is a Tech Number\n"
          ]
        }
      ],
      "source": [
        "#Tech Number or not\n",
        "num = int(input(\"Enter a number: \"))\n",
        "num_str = str(num)\n",
        "n = len(num_str)\n",
        "\n",
        "if n % 2 == 0:  # Check even digits\n",
        "    first_half = int(num_str[:n//2])\n",
        "    second_half = int(num_str[n//2:])\n",
        "    if (first_half + second_half) ** 2 == num:\n",
        "        print(num, \"is a Tech Number\")\n",
        "    else:\n",
        "        print(num, \"is NOT a Tech Number\")\n",
        "else:\n",
        "    print(num, \"is NOT a Tech Number\")\n"
      ]
    },
    {
      "cell_type": "code",
      "source": [
        "#Peterson Number\n",
        "num = int(input(\"Enter a number: \"))\n",
        "temp = num\n",
        "sum_fact = 0\n",
        "\n",
        "while temp > 0:\n",
        "    digit = temp % 10\n",
        "    fact = 1\n",
        "    for i in range(1, digit + 1):\n",
        "        fact *= i\n",
        "    sum_fact += fact\n",
        "    temp //= 10\n",
        "\n",
        "if sum_fact == num:\n",
        "    print(num, \"is a Peterson Number\")\n",
        "else:\n",
        "    print(num, \"is NOT a Peterson Number\")\n"
      ],
      "metadata": {
        "colab": {
          "base_uri": "https://localhost:8080/"
        },
        "id": "_UjXCmCvPyH-",
        "outputId": "79cdcdb2-d058-4bd5-dbf8-fc14dd5076b3"
      },
      "execution_count": 3,
      "outputs": [
        {
          "output_type": "stream",
          "name": "stdout",
          "text": [
            "Enter a number: 123\n",
            "123 is NOT a Peterson Number\n"
          ]
        }
      ]
    },
    {
      "cell_type": "code",
      "source": [
        "#Sunny Number\n",
        "import math\n",
        "\n",
        "num = int(input(\"Enter a number: \"))\n",
        "\n",
        "# To Check if num + 1 is a perfect square\n",
        "if math.isqrt(num + 1) ** 2 == num + 1:\n",
        "    print(num, \"is a Sunny Number\")\n",
        "else:\n",
        "    print(num, \"is NOT a Sunny Number\")\n"
      ],
      "metadata": {
        "colab": {
          "base_uri": "https://localhost:8080/"
        },
        "id": "qkjhhv90PyXJ",
        "outputId": "ea62941b-4ae3-4db9-eb7e-bd9939d48982"
      },
      "execution_count": 5,
      "outputs": [
        {
          "output_type": "stream",
          "name": "stdout",
          "text": [
            "Enter a number: 8\n",
            "8 is a Sunny Number\n"
          ]
        }
      ]
    },
    {
      "cell_type": "code",
      "source": [
        "#Spy Number\n",
        "num = int(input(\"Enter a number: \"))\n",
        "temp = num\n",
        "sum_digits = 0\n",
        "prod_digits = 1\n",
        "\n",
        "while temp > 0:\n",
        "    digit = temp % 10\n",
        "    sum_digits += digit\n",
        "    prod_digits *= digit\n",
        "    temp //= 10\n",
        "\n",
        "if sum_digits == prod_digits:\n",
        "    print(num, \"is a Spy Number\")\n",
        "else:\n",
        "    print(num, \"is NOT a Spy Number\")\n"
      ],
      "metadata": {
        "colab": {
          "base_uri": "https://localhost:8080/"
        },
        "id": "xEKpc-DhQQqT",
        "outputId": "2b4df16c-9690-4cbd-cf88-dc49f072d3ed"
      },
      "execution_count": 7,
      "outputs": [
        {
          "output_type": "stream",
          "name": "stdout",
          "text": [
            "Enter a number: 217\n",
            "217 is NOT a Spy Number\n"
          ]
        }
      ]
    },
    {
      "cell_type": "code",
      "source": [
        "#Neon Number\n",
        "num = int(input(\"Enter a number: \"))\n",
        "square = num * num\n",
        "sum_digits = 0\n",
        "\n",
        "while square > 0:\n",
        "    digit = square % 10\n",
        "    sum_digits += digit\n",
        "    square //= 10\n",
        "\n",
        "if sum_digits == num:\n",
        "    print(num, \"is a Neon Number\")\n",
        "else:\n",
        "    print(num, \"is NOT a Neon Number\")\n"
      ],
      "metadata": {
        "colab": {
          "base_uri": "https://localhost:8080/"
        },
        "id": "XlJApeYXQQts",
        "outputId": "63435029-9429-4ae0-fa06-3c7f15528218"
      },
      "execution_count": 9,
      "outputs": [
        {
          "output_type": "stream",
          "name": "stdout",
          "text": [
            "Enter a number: 5\n",
            "5 is NOT a Neon Number\n"
          ]
        }
      ]
    },
    {
      "cell_type": "code",
      "source": [
        "#Keith Number\n",
        "num = int(input(\"Enter a number: \"))\n",
        "num_str = str(num)\n",
        "digits = [int(d) for d in num_str]\n",
        "n = len(digits)\n",
        "\n",
        "temp = sum(digits)\n",
        "\n",
        "# To Generate sequence until temp >= num\n",
        "while temp < num:\n",
        "    digits.append(temp)\n",
        "    temp = sum(digits[-n:])\n",
        "\n",
        "if temp == num:\n",
        "    print(num, \"is a Keith Number\")\n",
        "else:\n",
        "    print(num, \"is NOT a Keith Number\")\n"
      ],
      "metadata": {
        "colab": {
          "base_uri": "https://localhost:8080/"
        },
        "id": "3MvsIVUmRuFz",
        "outputId": "256523a3-6590-442e-cf55-3d9645bf4bd1"
      },
      "execution_count": 11,
      "outputs": [
        {
          "output_type": "stream",
          "name": "stdout",
          "text": [
            "Enter a number: 742\n",
            "742 is a Keith Number\n"
          ]
        }
      ]
    }
  ]
}