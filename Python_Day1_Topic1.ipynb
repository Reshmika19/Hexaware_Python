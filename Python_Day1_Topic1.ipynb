{
  "nbformat": 4,
  "nbformat_minor": 0,
  "metadata": {
    "colab": {
      "provenance": []
    },
    "kernelspec": {
      "name": "python3",
      "display_name": "Python 3"
    },
    "language_info": {
      "name": "python"
    }
  },
  "cells": [
    {
      "cell_type": "code",
      "execution_count": 1,
      "metadata": {
        "colab": {
          "base_uri": "https://localhost:8080/"
        },
        "id": "CZfUqtqwU8RA",
        "outputId": "a260b6bb-6312-47db-c2e5-3791564b025b"
      },
      "outputs": [
        {
          "output_type": "stream",
          "name": "stdout",
          "text": [
            "Student Name: Alice, Age: 14, Grade: A\n"
          ]
        }
      ],
      "source": [
        "#challenge 1: Student Info Formatter (Variables + Blocks)\n",
        "# Storing student details in variables\n",
        "name = \"Alice\"\n",
        "age = 14\n",
        "grade = \"A\"\n",
        "\n",
        "# Defining a function to print student info\n",
        "def print_student_info():\n",
        "    print(f\"Student Name: {name}, Age: {age}, Grade: {grade}\")\n",
        "\n",
        "# Calling the function\n",
        "print_student_info()\n"
      ]
    },
    {
      "cell_type": "code",
      "source": [
        "#Challenge 2: Shopping Cart Calculator (Operators + variable)\n",
        "# Storing prices of 3 items\n",
        "item1 = 40\n",
        "item2 = 35\n",
        "item3 = 45\n",
        "\n",
        "# Calculating total cost\n",
        "total = item1 + item2 + item3\n",
        "\n",
        "print(\"Cart Total:\", total)\n",
        "\n",
        "# Applying 10% discount if total > 100\n",
        "if total > 100:\n",
        "    discount = total * 10 / 100\n",
        "    final_total = total - discount\n",
        "    print(\"Discount Applied:\", discount)\n",
        "    print(\"Final Total:\", final_total)\n",
        "else:\n",
        "    print(\"No Discount Applied\")\n",
        "    print(\"Final Total:\", total)\n"
      ],
      "metadata": {
        "colab": {
          "base_uri": "https://localhost:8080/"
        },
        "id": "A54QvYWyVlLq",
        "outputId": "98f3ecfd-33ff-46b3-9e7f-a47ac16bd70e"
      },
      "execution_count": 2,
      "outputs": [
        {
          "output_type": "stream",
          "name": "stdout",
          "text": [
            "Cart Total: 120\n",
            "Discount Applied: 12.0\n",
            "Final Total: 108.0\n"
          ]
        }
      ]
    },
    {
      "cell_type": "code",
      "source": [
        "#Challenge 3: Odd/Even Checker (Blocks + Operators)\n",
        "# Function to check if a number is odd or even\n",
        "def check_odd_even():\n",
        "    num = int(input(\"Enter a number: \"))  # Taking input\n",
        "    if num % 2 == 0:\n",
        "        print(f\"Number {num} is Even\")\n",
        "    else:\n",
        "        print(f\"Number {num} is Odd\")\n",
        "\n",
        "# Calling the function\n",
        "check_odd_even()\n"
      ],
      "metadata": {
        "colab": {
          "base_uri": "https://localhost:8080/"
        },
        "id": "4zsjBf6ZVlN9",
        "outputId": "dd611527-1cab-4cc7-a830-1ccec09d3b2c"
      },
      "execution_count": 3,
      "outputs": [
        {
          "output_type": "stream",
          "name": "stdout",
          "text": [
            "Enter a number: 4\n",
            "Number 4 is Even\n"
          ]
        }
      ]
    },
    {
      "cell_type": "code",
      "source": [
        "#Challenge 4: Temperature Converter\n",
        "# Function to convert Celsius to Fahrenheit\n",
        "def c_to_f():\n",
        "    celsius = float(input(\"Enter temperature in Celsius: \"))\n",
        "    fahrenheit = (celsius * 9 / 5) + 32\n",
        "    print(f\"{celsius}°C = {fahrenheit}°F\")\n",
        "\n",
        "# Function to convert Fahrenheit to Celsius\n",
        "def f_to_c():\n",
        "    fahrenheit = float(input(\"Enter temperature in Fahrenheit: \"))\n",
        "    celsius = (fahrenheit - 32) * 5 / 9\n",
        "    print(f\"{fahrenheit}°F = {celsius:.2f}°C\")\n",
        "\n",
        "# Menu for user to choose conversion type\n",
        "print(\"Temperature Converter\")\n",
        "print(\"1. Celsius → Fahrenheit\")\n",
        "print(\"2. Fahrenheit → Celsius\")\n",
        "\n",
        "choice = int(input(\"Enter your choice (1 or 2): \"))\n",
        "\n",
        "if choice == 1:\n",
        "    c_to_f()\n",
        "elif choice == 2:\n",
        "    f_to_c()\n",
        "else:\n",
        "    print(\"Invalid choice! Please select 1 or 2.\")\n"
      ],
      "metadata": {
        "colab": {
          "base_uri": "https://localhost:8080/"
        },
        "id": "l7r-F-jWVlRX",
        "outputId": "4f11c1ec-43b4-47c5-d66f-e779126320fa"
      },
      "execution_count": 4,
      "outputs": [
        {
          "output_type": "stream",
          "name": "stdout",
          "text": [
            "Temperature Converter\n",
            "1. Celsius → Fahrenheit\n",
            "2. Fahrenheit → Celsius\n",
            "Enter your choice (1 or 2): 1\n",
            "Enter temperature in Celsius: 25\n",
            "25.0°C = 77.0°F\n"
          ]
        }
      ]
    },
    {
      "cell_type": "code",
      "source": [
        "#Challenge 5: Calculator\n",
        "# Function for addition\n",
        "def add(a, b):\n",
        "    return a + b\n",
        "\n",
        "# Function for subtraction\n",
        "def sub(a, b):\n",
        "    return a - b\n",
        "\n",
        "# Function for multiplication\n",
        "def mul(a, b):\n",
        "    return a * b\n",
        "\n",
        "# Function for division\n",
        "def div(a, b):\n",
        "    if b != 0:\n",
        "        return a / b\n",
        "    else:\n",
        "        return \"Division by zero is not allowed!\"\n",
        "\n",
        "# Test inputs\n",
        "num1 = 10\n",
        "num2 = 5\n",
        "\n",
        "print(\"Add:\", add(num1, num2))\n",
        "print(\"Subtract:\", sub(num1, num2))\n",
        "print(\"Multiply:\", mul(num1, num2))\n",
        "print(\"Divide:\", div(num1, num2))\n"
      ],
      "metadata": {
        "colab": {
          "base_uri": "https://localhost:8080/"
        },
        "id": "whcriaCHYCFs",
        "outputId": "23414367-c8be-4c1e-be4f-bac8a04a5f2f"
      },
      "execution_count": 5,
      "outputs": [
        {
          "output_type": "stream",
          "name": "stdout",
          "text": [
            "Add: 15\n",
            "Subtract: 5\n",
            "Multiply: 50\n",
            "Divide: 2.0\n"
          ]
        }
      ]
    },
    {
      "cell_type": "code",
      "source": [
        "#Challenge 6: Bank Account Simulation\n",
        "# Initial balance\n",
        "balance = 1000\n",
        "\n",
        "# Function to deposit money\n",
        "def deposit(amount):\n",
        "    global balance\n",
        "    balance += amount\n",
        "    print(f\"Deposit {amount} → Balance: {balance}\")\n",
        "\n",
        "# Function to withdraw money\n",
        "def withdraw(amount):\n",
        "    global balance\n",
        "    if amount <= balance:\n",
        "        balance -= amount\n",
        "        print(f\"Withdraw {amount} → Balance: {balance}\")\n",
        "    else:\n",
        "        print(f\"Insufficient funds! Balance: {balance}\")\n",
        "\n",
        "# Testing the functions\n",
        "deposit(200)     # Deposit 200\n",
        "withdraw(500)    # Withdraw 500\n",
        "withdraw(1000)   # Try to withdraw 1000"
      ],
      "metadata": {
        "colab": {
          "base_uri": "https://localhost:8080/"
        },
        "id": "IwF9T9sdYCJH",
        "outputId": "125e9346-2a8f-475e-bc42-fca02607fa95"
      },
      "execution_count": 6,
      "outputs": [
        {
          "output_type": "stream",
          "name": "stdout",
          "text": [
            "Deposit 200 → Balance: 1200\n",
            "Withdraw 500 → Balance: 700\n",
            "Insufficient funds! Balance: 700\n"
          ]
        }
      ]
    },
    {
      "cell_type": "code",
      "source": [
        "#7.\n",
        "import math\n",
        "\n",
        "n = int(input(\"Enter first number: \"))\n",
        "m = int(input(\"Enter second number: \"))\n",
        "\n",
        "product = n * m\n",
        "\n",
        "if math.isqrt(product) ** 2 == product:\n",
        "    print(\"yes\")\n",
        "else:\n",
        "    print(\"no\")\n",
        "5"
      ],
      "metadata": {
        "colab": {
          "base_uri": "https://localhost:8080/"
        },
        "id": "OYXjdFsbZ9Iz",
        "outputId": "03df44d3-c24d-4344-e604-a36753ed7e05"
      },
      "execution_count": 10,
      "outputs": [
        {
          "output_type": "stream",
          "name": "stdout",
          "text": [
            "Enter first number: 5\n",
            "Enter second number: 5\n",
            "yes\n"
          ]
        },
        {
          "output_type": "execute_result",
          "data": {
            "text/plain": [
              "5"
            ]
          },
          "metadata": {},
          "execution_count": 10
        }
      ]
    },
    {
      "cell_type": "code",
      "source": [
        "#8. to check sum is even or odd\n",
        "n = int(input(\"Enter first number: \"))\n",
        "m = int(input(\"Enter second number: \"))\n",
        "\n",
        "total = n + m\n",
        "\n",
        "if total % 2 == 0:\n",
        "    print(\"even\")\n",
        "else:\n",
        "    print(\"odd\")\n"
      ],
      "metadata": {
        "colab": {
          "base_uri": "https://localhost:8080/"
        },
        "id": "fLKs1V29ZsHV",
        "outputId": "9f1af9c9-f8c7-419a-f004-fe23ab98fe27"
      },
      "execution_count": 11,
      "outputs": [
        {
          "output_type": "stream",
          "name": "stdout",
          "text": [
            "Enter first number: 9\n",
            "Enter second number: 2\n",
            "odd\n"
          ]
        }
      ]
    },
    {
      "cell_type": "code",
      "source": [
        "# 10\n",
        "# Taking 10 numbers as input in a single line\n",
        "nums = list(map(int, input().split()))\n",
        "\n",
        "# To Find the minimum number\n",
        "print(min(nums))\n"
      ],
      "metadata": {
        "colab": {
          "base_uri": "https://localhost:8080/"
        },
        "id": "Q_lJj8cEZsJV",
        "outputId": "7801595c-d34f-4012-db22-dd655718b3d7"
      },
      "execution_count": 12,
      "outputs": [
        {
          "output_type": "stream",
          "name": "stdout",
          "text": [
            "5 4 3 2 1 7 6 10 8 9\n",
            "1\n"
          ]
        }
      ]
    },
    {
      "cell_type": "code",
      "source": [
        "#11. largest and smallest no. with its indices\n",
        "# Read N\n",
        "N = int(input())\n",
        "\n",
        "# Reading N numbers\n",
        "nums = list(map(int, input().split()))\n",
        "\n",
        "# Finding smallest and largest values\n",
        "min_val = min(nums)\n",
        "max_val = max(nums)\n",
        "\n",
        "# Finding 1-based indices\n",
        "min_index = nums.index(min_val) + 1\n",
        "max_index = nums.index(max_val) + 1\n",
        "\n",
        "# Print indices\n",
        "print(min_index, max_index)\n",
        "\n"
      ],
      "metadata": {
        "colab": {
          "base_uri": "https://localhost:8080/"
        },
        "id": "HORs6df1ZsLV",
        "outputId": "aa6b7d44-ca2a-4328-fdd6-683711bdb0b1"
      },
      "execution_count": 22,
      "outputs": [
        {
          "output_type": "stream",
          "name": "stdout",
          "text": [
            "5\n",
            "1 2 3 4 5\n",
            "1 5\n"
          ]
        }
      ]
    },
    {
      "cell_type": "code",
      "source": [
        "#12.\n",
        "import math\n",
        "\n",
        "# Reading two numbers\n",
        "N, M = map(int, input().split())\n",
        "\n",
        "# Checking if either number is zero\n",
        "if N == 0 or M == 0:\n",
        "    print(-1)\n",
        "else:\n",
        "    print(math.gcd(N, M))\n"
      ],
      "metadata": {
        "colab": {
          "base_uri": "https://localhost:8080/"
        },
        "id": "KemmK-qZbcBh",
        "outputId": "c65b43d9-f371-44e8-a9c3-e99733e729a2"
      },
      "execution_count": 21,
      "outputs": [
        {
          "output_type": "stream",
          "name": "stdout",
          "text": [
            "10 5\n",
            "5\n"
          ]
        }
      ]
    },
    {
      "cell_type": "code",
      "source": [
        "#13.\n",
        "k = int(input())\n",
        "\n",
        "# Using formula: sum = K * (K + 1) // 2\n",
        "total = k * (k + 1) // 2\n",
        "\n",
        "print(total)\n"
      ],
      "metadata": {
        "colab": {
          "base_uri": "https://localhost:8080/"
        },
        "id": "z2w_Uz45bcDt",
        "outputId": "dae2c5f4-7d97-448d-9bab-2753e206afcf"
      },
      "execution_count": 20,
      "outputs": [
        {
          "output_type": "stream",
          "name": "stdout",
          "text": [
            "3\n",
            "6\n"
          ]
        }
      ]
    },
    {
      "cell_type": "code",
      "source": [
        "#14. if N is between L and R\n",
        "N, L, R = map(int, input().split())\n",
        "if L <= N <= R:\n",
        "    print(\"yes\")\n",
        "else:\n",
        "    print(\"no\")\n"
      ],
      "metadata": {
        "colab": {
          "base_uri": "https://localhost:8080/"
        },
        "id": "i_nwCLVgbcHJ",
        "outputId": "6664caf4-624a-485e-e136-58e4474e8689"
      },
      "execution_count": 19,
      "outputs": [
        {
          "output_type": "stream",
          "name": "stdout",
          "text": [
            "3 2 6\n",
            "yes\n"
          ]
        }
      ]
    },
    {
      "cell_type": "code",
      "source": [
        "#15.\n",
        "\n",
        "n = int(input())\n",
        "\n",
        "temp = n\n",
        "sum_digits = 0\n",
        "prod_digits = 1\n",
        "\n",
        "# Calculating sum and product of digits\n",
        "while temp > 0:\n",
        "    digit = temp % 10\n",
        "    sum_digits += digit\n",
        "    prod_digits *= digit\n",
        "    temp //= 10\n",
        "\n",
        "# Checking if sum of sum_digits and prod_digits equals the number\n",
        "if (sum_digits + prod_digits) == n:\n",
        "    print(\"Great\")\n",
        "else:\n",
        "    print(\"no\")\n"
      ],
      "metadata": {
        "colab": {
          "base_uri": "https://localhost:8080/"
        },
        "id": "AEdrU7oCbc3N",
        "outputId": "ab64d101-abd2-4d1d-86b0-be18df78b655"
      },
      "execution_count": 17,
      "outputs": [
        {
          "output_type": "stream",
          "name": "stdout",
          "text": [
            "59\n",
            "Great\n"
          ]
        }
      ]
    },
    {
      "cell_type": "code",
      "source": [],
      "metadata": {
        "id": "g0yLitVxZsOv"
      },
      "execution_count": null,
      "outputs": []
    }
  ]
}